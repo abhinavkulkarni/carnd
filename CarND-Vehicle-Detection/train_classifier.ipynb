{
 "cells": [
  {
   "cell_type": "code",
   "execution_count": 12,
   "metadata": {
    "collapsed": true
   },
   "outputs": [],
   "source": [
    "import numpy as np\n",
    "import cv2\n",
    "import matplotlib.pyplot as plt\n",
    "import matplotlib.image as mpimg\n",
    "import glob\n",
    "from sklearn.svm import LinearSVC\n",
    "from sklearn.preprocessing import StandardScaler\n",
    "from sklearn.model_selection import train_test_split, GridSearchCV\n",
    "from features import *\n",
    "import time"
   ]
  },
  {
   "cell_type": "code",
   "execution_count": 13,
   "metadata": {
    "collapsed": true
   },
   "outputs": [],
   "source": [
    "# Read the data\n",
    "data_dir = '../vehicle-data/'\n",
    "\n",
    "cars = glob.glob(data_dir + 'vehicles/*/*g')\n",
    "notcars = glob.glob(data_dir + 'non-vehicles/*/*g')"
   ]
  },
  {
   "cell_type": "code",
   "execution_count": 14,
   "metadata": {
    "collapsed": true
   },
   "outputs": [],
   "source": [
    "orient = 9\n",
    "pix_per_cell = 8\n",
    "cell_per_block = 2\n",
    "spatial_size = (32, 32)\n",
    "hist_bins = 32"
   ]
  },
  {
   "cell_type": "code",
   "execution_count": 15,
   "metadata": {},
   "outputs": [
    {
     "name": "stderr",
     "output_type": "stream",
     "text": [
      "/Users/akulkarni/Applications/miniconda3/envs/carnd-term1/lib/python3.5/site-packages/skimage/feature/_hog.py:119: skimage_deprecation: Default value of `block_norm`==`L1` is deprecated and will be changed to `L2-Hys` in v0.15\n",
      "  'be changed to `L2-Hys` in v0.15', skimage_deprecation)\n"
     ]
    }
   ],
   "source": [
    "X = []\n",
    "y = []\n",
    "class_weight = {0:0, 1:1}\n",
    "for dataset in [cars, notcars]:\n",
    "    for img_name in dataset:\n",
    "        img = cv2.imread(img_name)\n",
    "        img = convert_color(img, conv='BGR2YCrCb')\n",
    "        img = img.astype(np.float32)/255\n",
    "        features = get_window_features(img, orient=orient, pix_per_cell=pix_per_cell,\n",
    "                                cell_per_block=cell_per_block, spatial_size=spatial_size, hist_bins=hist_bins)\n",
    "\n",
    "        f = next(features)\n",
    "        X.append(f)\n",
    "        if dataset==cars:\n",
    "            label = 1\n",
    "        else:\n",
    "            label = 0\n",
    "        y.append(label)\n",
    "        class_weight[1-label] += 1"
   ]
  },
  {
   "cell_type": "code",
   "execution_count": 16,
   "metadata": {
    "collapsed": true
   },
   "outputs": [],
   "source": [
    "X = np.vstack(X)\n",
    "y = np.array(y)"
   ]
  },
  {
   "cell_type": "code",
   "execution_count": 17,
   "metadata": {
    "collapsed": true
   },
   "outputs": [],
   "source": [
    "# Random shuffle data\n",
    "ind = list(range(len(y)))\n",
    "from random import shuffle\n",
    "shuffle(ind)\n",
    "X = X[ind]\n",
    "y = y[ind]"
   ]
  },
  {
   "cell_type": "code",
   "execution_count": 18,
   "metadata": {
    "collapsed": true
   },
   "outputs": [],
   "source": [
    "X_scaler = StandardScaler().fit(X)\n",
    "scaled_X = X_scaler.transform(X)"
   ]
  },
  {
   "cell_type": "code",
   "execution_count": 19,
   "metadata": {
    "collapsed": true
   },
   "outputs": [],
   "source": [
    "# Split up data into randomized training and test sets\n",
    "rand_state = np.random.randint(0, 100)\n",
    "X_train, X_test, y_train, y_test = train_test_split(scaled_X, y, test_size=0.2, random_state=rand_state)"
   ]
  },
  {
   "cell_type": "code",
   "execution_count": 9,
   "metadata": {},
   "outputs": [
    {
     "name": "stdout",
     "output_type": "stream",
     "text": [
      "148.7 Seconds to train SVC...\n",
      "Test Accuracy of SVC =  0.9673\n"
     ]
    }
   ],
   "source": [
    "parameters = {'C': [.1, .5, 1, 5, 10]}\n",
    "\n",
    "svc = LinearSVC()\n",
    "svc.class_weight = class_weight\n",
    "svc = GridSearchCV(svc, parameters, cv=3)\n",
    "# Check the training time for the SVC\n",
    "t=time.time()\n",
    "svc.fit(X_train, y_train)\n",
    "t2 = time.time()\n",
    "print(round(t2-t, 2), 'Seconds to train SVC...')\n",
    "# Check the score of the SVC\n",
    "print('Test Accuracy of SVC = ', round(svc.score(X_test, y_test), 4))"
   ]
  },
  {
   "cell_type": "code",
   "execution_count": 10,
   "metadata": {},
   "outputs": [
    {
     "name": "stdout",
     "output_type": "stream",
     "text": [
      "GridSearchCV(cv=3, error_score='raise',\n",
      "       estimator=LinearSVC(C=1.0, class_weight={0: 8792, 1: 8969}, dual=True,\n",
      "     fit_intercept=True, intercept_scaling=1, loss='squared_hinge',\n",
      "     max_iter=1000, multi_class='ovr', penalty='l2', random_state=None,\n",
      "     tol=0.0001, verbose=0),\n",
      "       fit_params=None, iid=True, n_jobs=1,\n",
      "       param_grid={'C': [0.1, 0.5, 1, 5, 10]}, pre_dispatch='2*n_jobs',\n",
      "       refit=True, return_train_score=True, scoring=None, verbose=0)\n"
     ]
    }
   ],
   "source": [
    "print(svc)"
   ]
  },
  {
   "cell_type": "code",
   "execution_count": 11,
   "metadata": {
    "collapsed": true
   },
   "outputs": [],
   "source": [
    "# Save classifier and scaler\n",
    "import pickle\n",
    "\n",
    "params = {}\n",
    "params['svc'] = svc\n",
    "params['scaler'] = X_scaler\n",
    "params['orient'] = orient\n",
    "params['pix_per_cell'] = pix_per_cell\n",
    "params['cell_per_block'] = cell_per_block\n",
    "params['spatial_size'] = spatial_size\n",
    "params['hist_bins'] = hist_bins\n",
    "\n",
    "with open(\"params/svc_pickle.p\", \"wb\" ) as f:\n",
    "    f.write(pickle.dumps(params))"
   ]
  },
  {
   "cell_type": "code",
   "execution_count": null,
   "metadata": {
    "collapsed": true
   },
   "outputs": [],
   "source": []
  }
 ],
 "metadata": {
  "kernelspec": {
   "display_name": "Python 3",
   "language": "python",
   "name": "python3"
  },
  "language_info": {
   "codemirror_mode": {
    "name": "ipython",
    "version": 3
   },
   "file_extension": ".py",
   "mimetype": "text/x-python",
   "name": "python",
   "nbconvert_exporter": "python",
   "pygments_lexer": "ipython3",
   "version": "3.5.2"
  },
  "widgets": {
   "state": {},
   "version": "1.1.2"
  }
 },
 "nbformat": 4,
 "nbformat_minor": 2
}
