{
 "cells": [
  {
   "cell_type": "code",
   "execution_count": 1,
   "metadata": {
    "collapsed": true
   },
   "outputs": [],
   "source": [
    "import numpy as np\n",
    "import cv2\n",
    "from skimage.feature import hog"
   ]
  },
  {
   "cell_type": "code",
   "execution_count": 2,
   "metadata": {
    "collapsed": true
   },
   "outputs": [],
   "source": [
    "def convert_color(img, conv='RGB2YCrCb'):\n",
    "    if conv == 'RGB2YCrCb':\n",
    "        return cv2.cvtColor(img, cv2.COLOR_RGB2YCrCb)\n",
    "    if conv == 'BGR2YCrCb':\n",
    "        return cv2.cvtColor(img, cv2.COLOR_BGR2YCrCb)\n",
    "    if conv == 'RGB2LUV':\n",
    "        return cv2.cvtColor(img, cv2.COLOR_RGB2LUV)\n",
    "    if conv == 'BGR2RGB':\n",
    "        return cv2.cvtColor(img, cv2.COLOR_BGR2RGB)"
   ]
  },
  {
   "cell_type": "code",
   "execution_count": 3,
   "metadata": {
    "collapsed": true
   },
   "outputs": [],
   "source": [
    "def get_hog_features(img, orient, pix_per_cell, cell_per_block, vis=False, feature_vec=True):\n",
    "    # Call with two outputs if vis==True\n",
    "    if vis == True:\n",
    "        features, hog_image = hog(img, orientations=orient, \n",
    "                                  pixels_per_cell=(pix_per_cell, pix_per_cell),\n",
    "                                  cells_per_block=(cell_per_block, cell_per_block), \n",
    "                                  transform_sqrt=False, \n",
    "                                  visualise=vis, feature_vector=feature_vec)\n",
    "        return features, hog_image\n",
    "    # Otherwise call with one output\n",
    "    else:      \n",
    "        features = hog(img, orientations=orient, \n",
    "                       pixels_per_cell=(pix_per_cell, pix_per_cell),\n",
    "                       cells_per_block=(cell_per_block, cell_per_block), \n",
    "                       transform_sqrt=False, \n",
    "                       visualise=vis, feature_vector=feature_vec)\n",
    "        return features"
   ]
  },
  {
   "cell_type": "code",
   "execution_count": 4,
   "metadata": {
    "collapsed": true
   },
   "outputs": [],
   "source": [
    "def bin_spatial(img, size=(32, 32)):\n",
    "    color1 = cv2.resize(img[:,:,0], size).ravel()\n",
    "    color2 = cv2.resize(img[:,:,1], size).ravel()\n",
    "    color3 = cv2.resize(img[:,:,2], size).ravel()\n",
    "    return np.hstack((color1, color2, color3))\n",
    "                        \n",
    "def color_hist(img, nbins=32):    #bins_range=(0, 256)\n",
    "    # Compute the histogram of the color channels separately\n",
    "    channel1_hist = np.histogram(img[:,:,0], bins=nbins)\n",
    "    channel2_hist = np.histogram(img[:,:,1], bins=nbins)\n",
    "    channel3_hist = np.histogram(img[:,:,2], bins=nbins)\n",
    "    # Concatenate the histograms into a single feature vector\n",
    "    hist_features = np.concatenate((channel1_hist[0], channel2_hist[0], channel3_hist[0]))\n",
    "    # Return the individual histograms, bin_centers and feature vector\n",
    "    return hist_features"
   ]
  },
  {
   "cell_type": "code",
   "execution_count": 5,
   "metadata": {
    "collapsed": true
   },
   "outputs": [],
   "source": [
    "def get_window_features(img, orient, pix_per_cell, cell_per_block, spatial_size, hist_bins):\n",
    "        \n",
    "    ch1 = img[:,:,0]\n",
    "    ch2 = img[:,:,1]\n",
    "    ch3 = img[:,:,2]\n",
    "        \n",
    "    # Compute individual channel HOG features for the entire image\n",
    "    hog1 = get_hog_features(ch1, orient, pix_per_cell, cell_per_block, feature_vec=False)\n",
    "    hog2 = get_hog_features(ch2, orient, pix_per_cell, cell_per_block, feature_vec=False)\n",
    "    hog3 = get_hog_features(ch3, orient, pix_per_cell, cell_per_block, feature_vec=False)\n",
    "            \n",
    "    window = 64\n",
    "    cells_per_step = 2\n",
    "    cells_per_window = window//pix_per_cell\n",
    "    \n",
    "    # Window moves cells_per_step = 2 cells at a time\n",
    "    cells_per_x = ch1.shape[1] // pix_per_cell\n",
    "    cells_per_y = ch1.shape[0] // pix_per_cell\n",
    "\n",
    "    for i in range(0, cells_per_y-cells_per_window+1, cells_per_step):\n",
    "        for j in range(0, cells_per_x-cells_per_window+1, cells_per_step):\n",
    "            subimg_hog1 = hog1[i, j].ravel()\n",
    "            subimg_hog2 = hog2[i, j].ravel()\n",
    "            subimg_hog3 = hog3[i, j].ravel()\n",
    "            hog_features = np.hstack((subimg_hog1, subimg_hog2, subimg_hog3))\n",
    "            \n",
    "            x = j*pix_per_cell\n",
    "            y = i*pix_per_cell\n",
    "            subimg = img[y:y+window, x:x+window]\n",
    "            \n",
    "            # Get color features\n",
    "            spatial_features = bin_spatial(subimg, size=spatial_size)\n",
    "            hist_features = color_hist(subimg, nbins=hist_bins)\n",
    "            \n",
    "            features = np.hstack((spatial_features, hist_features, hog_features)).reshape(1, -1)\n",
    "            yield features"
   ]
  },
  {
   "cell_type": "code",
   "execution_count": 6,
   "metadata": {
    "collapsed": true
   },
   "outputs": [],
   "source": [
    "# Define a single function that can extract features using hog sub-sampling and make predictions\n",
    "def find_cars(img, scale, svc, X_scaler, orient, pix_per_cell, cell_per_block, spatial_size, hist_bins):\n",
    "\n",
    "    scaled_img = img\n",
    "    if scale!=1:\n",
    "        scaled_img = cv2.resize(img, (int(img.shape[1]/scale), int(img.shape[0]/scale)))\n",
    "    \n",
    "    cells_per_step = 2\n",
    "    \n",
    "    window = 64\n",
    "    \n",
    "    if scale==1:\n",
    "        y_steps_start, y_steps_end = 0, 4\n",
    "        ymin, ymax = y_steps_start*cells_per_step*pix_per_cell, y_steps_end*cells_per_step*pix_per_cell+window\n",
    "        xmin, xmax = int(.2*scaled_img.shape[1]), int(.8*scaled_img.shape[1])\n",
    "        scaled_img = scaled_img[ymin:ymax, xmin:xmax]\n",
    "    elif scale==2:\n",
    "        y_steps_start, y_steps_end = 0, 4\n",
    "        ymin, ymax = y_steps_start*cells_per_step*pix_per_cell, y_steps_end*cells_per_step*pix_per_cell+window\n",
    "        xmin, xmax = int(0*scaled_img.shape[1]), int(1*scaled_img.shape[1])\n",
    "        scaled_img = scaled_img[ymin:ymax, xmin:xmax]\n",
    "    elif scale==3:\n",
    "        y_steps_start, y_steps_end = 2, 4\n",
    "        ymin, ymax = y_steps_start*cells_per_step*pix_per_cell, y_steps_end*cells_per_step*pix_per_cell+window\n",
    "        xmin, xmax = int(0*scaled_img.shape[1]), int(1*scaled_img.shape[1])\n",
    "        scaled_img = scaled_img[ymin:ymax, xmin:xmax]\n",
    "    \n",
    "#     scaled_img = scaled_img[:int(4*scale*pix_per_cell*cells_per_step)]\n",
    "    gen = get_window_features(scaled_img, orient, pix_per_cell, cell_per_block, spatial_size, hist_bins)\n",
    "\n",
    "    \n",
    "    cells_per_window = window//pix_per_cell\n",
    "    \n",
    "    # Window moves cells_per_step = 2 cells at a time\n",
    "    cells_per_x = scaled_img.shape[1] // pix_per_cell\n",
    "    cells_per_y = scaled_img.shape[0] // pix_per_cell\n",
    "\n",
    "    for i in range(0, cells_per_y-cells_per_window+1, cells_per_step):\n",
    "        for j in range(0, cells_per_x-cells_per_window+1, cells_per_step):\n",
    "            f = next(gen)\n",
    "            f = X_scaler.transform(f)\n",
    "            label = svc.predict(f)\n",
    "#             label = np.argmax(svc.predict_proba(f), axis=1)\n",
    "            if label==1:    \n",
    "                y1, x1 = i*pix_per_cell, j*pix_per_cell\n",
    "                y2, x2 = y1+window-1, x1+window-1\n",
    "                \n",
    "                y1, y2 = y1+ymin, y2+ymin\n",
    "                x1, x2 = x1+xmin, x2+xmin\n",
    "                \n",
    "                y1, x1 = int(y1*scale), int(x1*scale)\n",
    "                y2, x2 = int(y2*scale), int(x2*scale)\n",
    "                \n",
    "                bbox = [(x1, y1), (x2, y2)]\n",
    "                yield bbox"
   ]
  }
 ],
 "metadata": {
  "kernelspec": {
   "display_name": "Python 3",
   "language": "python",
   "name": "python3"
  },
  "language_info": {
   "codemirror_mode": {
    "name": "ipython",
    "version": 3
   },
   "file_extension": ".py",
   "mimetype": "text/x-python",
   "name": "python",
   "nbconvert_exporter": "python",
   "pygments_lexer": "ipython3",
   "version": "3.5.2"
  },
  "widgets": {
   "state": {},
   "version": "1.1.2"
  }
 },
 "nbformat": 4,
 "nbformat_minor": 2
}
